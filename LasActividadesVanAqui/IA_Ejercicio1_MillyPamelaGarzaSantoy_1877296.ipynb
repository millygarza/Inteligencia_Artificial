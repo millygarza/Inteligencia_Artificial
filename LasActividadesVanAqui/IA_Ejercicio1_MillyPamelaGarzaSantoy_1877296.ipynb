{
  "nbformat": 4,
  "nbformat_minor": 0,
  "metadata": {
    "colab": {
      "name": "IA_Ejercicio1_MillyPamelaGarzaSantoy_1877296.ipynb",
      "provenance": [],
      "authorship_tag": "ABX9TyP+ZTjLq1yUtg/h7jrTbU3d",
      "include_colab_link": true
    },
    "kernelspec": {
      "name": "python3",
      "display_name": "Python 3"
    },
    "language_info": {
      "name": "python"
    }
  },
  "cells": [
    {
      "cell_type": "markdown",
      "metadata": {
        "id": "view-in-github",
        "colab_type": "text"
      },
      "source": [
        "<a href=\"https://colab.research.google.com/github/millygarza/Inteligencia_Artificial/blob/main/IA_Ejercicio1_MillyPamelaGarzaSantoy_1877296.ipynb\" target=\"_parent\"><img src=\"https://colab.research.google.com/assets/colab-badge.svg\" alt=\"Open In Colab\"/></a>"
      ]
    },
    {
      "cell_type": "markdown",
      "metadata": {
        "id": "I8vlFJ9fs9HN"
      },
      "source": [
        "####Martes N4 Inteligencia Artificial y Redes Neuronales\n",
        "\n",
        "# **Ejercicios Introducción Python**\n",
        "###*Actividad 2*\n",
        "\n",
        "Milly Pamela Garza Santoy\n",
        "1877296\n",
        "\n",
        "\n",
        "\n",
        "---\n",
        "\n",
        "\n",
        "####**Instrucciones**\n",
        "\n",
        "\n",
        "1.   La primera celda de su notebook deberá contener el título de la actividad, su nombre, matrícula y hora de clase.\n",
        "2.   Para cada ejercicio realizar los comentarios necesarios para entender el funcionamiento de su código\n",
        "3.   Cada celda deberá ser ejecutada antes de guardar su archivo .ipynb.\n",
        "4.   La versión final de notebook la guardarán en una carpeta con el nombre \"LasActividadesVanAqui\" y el nombre deberá tener la siguiente estructura: IA_Ejercicio1_Nombre_Matrícula, por ejemplo, \"IA_Ejercicio1_DanielLopez_1234567\".\n",
        "5.   Como evidencia de esta actividad, subir un pdf con el link del ejercicio en su repositorio de GitHub.\n",
        "\n",
        "####***Ejercicio 1:***\n",
        "Crear un programa que pregunte al usuario por su nombre, edad, una frase favorita y autor de la frase favorita. El programa deberá imprimir un mensaje compuesto por el nombre y edad del usuario diciendo que su frase favorita es la que dió anteriormente y el autor de dicha frase es el nombre previamente dado. Aquí habrá que realizar una concatenación de variable."
      ]
    },
    {
      "cell_type": "code",
      "metadata": {
        "id": "6F3h077I5T-E",
        "colab": {
          "base_uri": "https://localhost:8080/"
        },
        "outputId": "3f22c50c-48dc-4c16-b2c6-b245663f5b2c"
      },
      "source": [
        "name = input(\"Ingrese su nombre: \") #Se escribe nombre y se guarda como variable 'name'\n",
        "age = input(\"Ingrese su edad: \") #Se escribe edad y se guarda como variable 'age'\n",
        "phrase = input(\"Ingrese su frase favorita: \") #Se escribe frase y se guarda como variable 'phrase'\n",
        "author = input(\"Ingrese el autor de dicha frase: \") #Se escribe autor y se guarda como variable 'author'\n",
        "print(\"Su nombre es \" + name + \", tiene \" + age + \" años, su frase favorita es '\" + phrase + \"' y el autor de la frase es\",author) \n",
        "#La última línea imprime la información ingresada "
      ],
      "execution_count": 1,
      "outputs": [
        {
          "output_type": "stream",
          "name": "stdout",
          "text": [
            "Ingrese su nombre: Milly Pamela Garza Santoy\n",
            "Ingrese su edad: 20\n",
            "Ingrese su frase favorita: Yo sólo sé que no sé nada\n",
            "Ingrese el autor de dicha frase: Sócrates\n",
            "Su nombre es Milly Pamela Garza Santoy, tiene 20 años, su frase favorita es 'Yo sólo sé que no sé nada' y el autor de la frase es Sócrates\n"
          ]
        }
      ]
    },
    {
      "cell_type": "markdown",
      "metadata": {
        "id": "BiybiDlX3D0g"
      },
      "source": [
        "####***Ejercicio 2:***\n",
        "Crear un programa que le pida al usuario capturar dos números enteros y dos números flotantes. Después, realizará la suma, resta, multiplicación y división, de ambos pares de números. Como resultado se deberán obtener 8 valores. Imprimir todos estos resultados."
      ]
    },
    {
      "cell_type": "code",
      "metadata": {
        "colab": {
          "base_uri": "https://localhost:8080/"
        },
        "id": "tp8gnlFi3cat",
        "outputId": "15f4815a-cf20-48ec-c157-c35b4e68e9c1"
      },
      "source": [
        "e1 = int(input(\"Ingrese un número entero: \")) #Se escribe un número, se convierte a entero y se guarda como variable 'e1'\n",
        "e2 = int(input(\"Ingrese otro número entero: \")) #Se escribe un número, se convierte a entero y se guarda como variable 'e2'\n",
        "f1 = float(input(\"Ingrese un número decimal: \")) #Se escribe un número, se convierte a decimal y se guarda como variable 'f1'\n",
        "f2 = float(input(\"Ingrese otro número decimal: \")) #Se escribe un número, se convierte a decimal y se guarda como variable 'f2'\n",
        "print(\"Las operaciones básicas del par de números enteros son: \") #Se imprime que números se utilizarán\n",
        "print(\"   Suma: \", e1+e2) #Suma e impresión de números enteros\n",
        "print(\"   Resta: \", e1-e2) #Resta e impresión de números enteros\n",
        "print(\"   Multiplicación: \", e1*e2) #Multiplicación e impresión de números enteros\n",
        "print(\"   División: \", e1/e2) #División e impresión de números enteros\n",
        "print(\"Las operaciones básicas del par de números decimales son: \") #Se imprime que números se utilizarán\n",
        "print(\"   Suma: \", f1+f2) #Suma e impresión de números decimales\n",
        "print(\"   Resta: \", f1-f2) #Resta e impresión de números decimales\n",
        "print(\"   Multiplicación: \", f1*f2) #Multiplicación e impresión de números decimales\n",
        "print(\"   División: \", f1/f2) #División e impresión de números decimales"
      ],
      "execution_count": 2,
      "outputs": [
        {
          "output_type": "stream",
          "name": "stdout",
          "text": [
            "Ingrese un número entero: 3\n",
            "Ingrese otro número entero: 4\n",
            "Ingrese un número decimal: 2.1\n",
            "Ingrese otro número decimal: 13.002\n",
            "Las operaciones básicas del par de números enteros son: \n",
            "   Suma:  7\n",
            "   Resta:  -1\n",
            "   Multiplicación:  12\n",
            "   División:  0.75\n",
            "Las operaciones básicas del par de números decimales son: \n",
            "   Suma:  15.102\n",
            "   Resta:  -10.902000000000001\n",
            "   Multiplicación:  27.3042\n",
            "   División:  0.16151361329026304\n"
          ]
        }
      ]
    },
    {
      "cell_type": "markdown",
      "metadata": {
        "id": "Fv3aGid87IHw"
      },
      "source": [
        "####***Ejercicio 3:***\n",
        "Crear un programa que evalúe dos expresiones lógicas con 'and', dos con 'or' y dos con 'not'. Cada expresión deberá hacer uso de operadores de comparación."
      ]
    },
    {
      "cell_type": "code",
      "metadata": {
        "colab": {
          "base_uri": "https://localhost:8080/"
        },
        "id": "DJg4UWiJ9rbq",
        "outputId": "81d0ca3c-05c5-4d14-b17b-9872229d60af"
      },
      "source": [
        "x = int(input(\"Ingrese un número entero: \")) #Se escribe un número, se convierte a entero y se guarda como variable 'x'\n",
        "y = int(input(\"Ingrese otro número entero: \")) #Se escribe un número, se convierte a entero y se guarda como variable 'y'\n",
        "print('Las expresiones lógicas con \"and\" son:') #Se imprime que expresiones lógicas se utilizarán\n",
        "print('   \"',x,'>',y,'and',x,'<',y,'\", es:',x>y and x<y) #Regresa 'True' si ambas expresiones son verdaderas\n",
        "print('   \"',x,'> 0 and 0 <',y,'\", es:',x>0 and 0<y) #Regresa 'True' si ambas expresiones son verdaderas\n",
        "print('Las expresiones lógicas con \"or\" son:') #Se imprime que expresiones lógicas se utilizarán\n",
        "print('   \"',x,'>',y,'or',x,'<',y,'\", es:',x>y or x<y) #Regresa 'True' si una de las expresiones es verdadera\n",
        "print('   \"',x,'> 0 or 0 <',y,'\", es:',x>0 or 0<y)  #Regresa 'True' si una de las expresiones es verdadera\n",
        "print('Las expresiones lógicas con \"not\" son:') #Se imprime que expresiones lógicas se utilizarán\n",
        "print('   \"',x,'not 0 \", es:',not x!=0) #Regresa 'False' si el resultado es verdadero\n",
        "print('   \"',y,'not 0 \", es:',not y!=0) #Regresa 'False' si el resultado es verdadero"
      ],
      "execution_count": 3,
      "outputs": [
        {
          "output_type": "stream",
          "name": "stdout",
          "text": [
            "Ingrese un número entero: 5\n",
            "Ingrese otro número entero: 8\n",
            "Las expresiones lógicas con \"and\" son:\n",
            "   \" 5 > 8 and 5 < 8 \", es: False\n",
            "   \" 5 > 0 and 0 < 8 \", es: True\n",
            "Las expresiones lógicas con \"or\" son:\n",
            "   \" 5 > 8 or 5 < 8 \", es: True\n",
            "   \" 5 > 0 or 0 < 8 \", es: True\n",
            "Las expresiones lógicas con \"not\" son:\n",
            "   \" 5 not 0 \", es: False\n",
            "   \" 8 not 0 \", es: False\n"
          ]
        }
      ]
    }
  ]
}
