{
  "nbformat": 4,
  "nbformat_minor": 0,
  "metadata": {
    "colab": {
      "name": "IA_Ejercicio2_MillyPamelaGarzaSantoy_1877296.ipynb",
      "provenance": [],
      "authorship_tag": "ABX9TyONMpu1lhbnMlyEUggl/cEQ",
      "include_colab_link": true
    },
    "kernelspec": {
      "name": "python3",
      "display_name": "Python 3"
    },
    "language_info": {
      "name": "python"
    }
  },
  "cells": [
    {
      "cell_type": "markdown",
      "metadata": {
        "id": "view-in-github",
        "colab_type": "text"
      },
      "source": [
        "<a href=\"https://colab.research.google.com/github/millygarza/Inteligencia_Artificial/blob/main/IA_Ejercicio2_MillyPamelaGarzaSantoy_1877296.ipynb\" target=\"_parent\"><img src=\"https://colab.research.google.com/assets/colab-badge.svg\" alt=\"Open In Colab\"/></a>"
      ]
    },
    {
      "cell_type": "markdown",
      "metadata": {
        "id": "c9mZPqkMh26b"
      },
      "source": [
        "####Martes N4 Inteligencia Artificial y Redes Neuronales\n",
        "\n",
        "# **Ejercicios Introducción Python (2da parte)**\n",
        "###*Actividad 3*\n",
        "\n",
        "Milly Pamela Garza Santoy\n",
        "1877296\n",
        "\n",
        "\n",
        "\n",
        "---\n",
        "\n",
        "####**Instrucciones**\n",
        "\n",
        "\n",
        "1.   La primera celda de su notebook deberá contener el título de la actividad, su nombre, matrícula y hora de clase.\n",
        "2.   Para cada ejercicio realizar los comentarios necesarios para entender el funcionamiento de su código\n",
        "3.   Cada celda deberá ser ejecutada antes de guardar su archivo .ipynb.\n",
        "4.   La versión final de notebook la guardarán en una carpeta con el nombre \"LasActividadesVanAqui\" y el nombre deberá tener la siguiente estructura: IA_Ejercicio2_Nombre_Matrícula, por ejemplo, \"IA_Ejercicio2_DanielLopez_1234567\".\n",
        "5.   Como evidencia de esta actividad, subir un pdf con el link del ejercicio en su repositorio de GitHub.\n",
        "\n",
        "####***Ejercicio 1:***\n",
        "\n",
        "\n",
        "1.   Piensa en 7 comidas diferentes que te gusten. Implementa un programa que pregunte por las 7 comidas, las almacene en una lista y que posteriormente imprima cada una de ellas utilizando uno de los ciclos comentados en clase.\n",
        "2.   Modifica la primer parte del ejercicio para que imprima cada una de las comidas junto con una oración inicial: \"Una de mis comidas favoritas es [comida1]\"\n",
        "\n"
      ]
    },
    {
      "cell_type": "code",
      "metadata": {
        "colab": {
          "base_uri": "https://localhost:8080/"
        },
        "id": "VJYUoEHAnBAq",
        "outputId": "79f266ab-67a5-4c8d-e200-f6a2b417bab4"
      },
      "source": [
        "#Ejercicio 1.1\n",
        "comidas = [] #Lista vacía para almacenar datos\n",
        "for i in range(1,8): #Ciclo que se repetira 7 veces\n",
        "    extra = input(\"Ingrese una de sus comidas favoritas: \") #Input para las 7 comidas\n",
        "    comidas.append(extra) #Función para agregar las comidas a la lista\n",
        "    \n",
        "print(\"Sus comidas favoritas son: \") \n",
        "for i in comidas: #Ciclo que abarca la lista que se creó de comidas\n",
        "    print(i)   #Resultado de la lista creada"
      ],
      "execution_count": 3,
      "outputs": [
        {
          "output_type": "stream",
          "name": "stdout",
          "text": [
            "Ingrese una de sus comidas favoritas: Pizza\n",
            "Ingrese una de sus comidas favoritas: Sushi\n",
            "Ingrese una de sus comidas favoritas: Tacos\n",
            "Ingrese una de sus comidas favoritas: Palomitas\n",
            "Ingrese una de sus comidas favoritas: Helado\n",
            "Ingrese una de sus comidas favoritas: Galletas\n",
            "Ingrese una de sus comidas favoritas: Dulces\n",
            "Sus comidas favoritas son: \n",
            "Pizza\n",
            "Sushi\n",
            "Tacos\n",
            "Palomitas\n",
            "Helado\n",
            "Galletas\n",
            "Dulces\n"
          ]
        }
      ]
    },
    {
      "cell_type": "code",
      "metadata": {
        "colab": {
          "base_uri": "https://localhost:8080/"
        },
        "id": "0M9tgbxioOiW",
        "outputId": "8b5ecf7c-2f2a-4e6b-9911-dcd473a479a3"
      },
      "source": [
        "#Ejercicio 1.2\n",
        "comidas = [] #Lista vacía para almacenar datos\n",
        "for i in range(1,8): #Ciclo que se repetira 7 veces\n",
        "    extra = input(\"Ingrese una de sus comidas favoritas: \") #Input para las 7 comidas\n",
        "    comidas.append(extra) #Función para agregar las comidas a la lista\n",
        "    \n",
        "\n",
        "for i in comidas: #Ciclo que abarca la lista que se creó de comidas\n",
        "    print(\"Una de mis comidas favoritas es \"+ i.lower() +\".\")   #Resultado de la lista creada\n",
        "    #La función \"lower.()\" hace que la palabra se imprima en minúsculas"
      ],
      "execution_count": 16,
      "outputs": [
        {
          "output_type": "stream",
          "name": "stdout",
          "text": [
            "Ingrese una de sus comidas favoritas: Pizza\n",
            "Ingrese una de sus comidas favoritas: Sushi\n",
            "Ingrese una de sus comidas favoritas: Tacos\n",
            "Ingrese una de sus comidas favoritas: Palomitas\n",
            "Ingrese una de sus comidas favoritas: Helado\n",
            "Ingrese una de sus comidas favoritas: Galletas\n",
            "Ingrese una de sus comidas favoritas: Dulces\n",
            "Una de mis comidas favoritas es pizza.\n",
            "Una de mis comidas favoritas es sushi.\n",
            "Una de mis comidas favoritas es tacos.\n",
            "Una de mis comidas favoritas es palomitas.\n",
            "Una de mis comidas favoritas es helado.\n",
            "Una de mis comidas favoritas es galletas.\n",
            "Una de mis comidas favoritas es dulces.\n"
          ]
        }
      ]
    },
    {
      "cell_type": "markdown",
      "metadata": {
        "id": "XG_vBqj8qmT-"
      },
      "source": [
        "####***Ejercicio 2:***\n",
        "Crea un juego de piedra, papel o tijera de dos jugadores. El programa preguntará por la opción del jugador 1 y la opción del jugador 2 y dará como resultado quien ganó el juego"
      ]
    },
    {
      "cell_type": "code",
      "metadata": {
        "colab": {
          "base_uri": "https://localhost:8080/"
        },
        "id": "9umVTdf2zTCt",
        "outputId": "d3b23178-087b-44a5-9a42-93d41c91df26"
      },
      "source": [
        "print(\"Juego piedra, papel o tijeras\")\n",
        "print(\"a = piedra\")\n",
        "print(\"b = papel\")\n",
        "print(\"c = tijeras\")\n",
        "J1 = input(\"JUGADOR UNO, eliga una opción (abc): \")\n",
        "J2 = input(\"JUGADOR DOS, eliga una opción (abc): \")\n",
        "\n",
        "if J1 == \"c\" and J2 == \"b\":\n",
        "    print(\"El resultado es: JUGADOR UNO GANA\")\n",
        "if J1 == \"c\" and J2 == \"a\":\n",
        "    print(\"El resultado es: JUGADOR DOS GANA\")\n",
        "if J1 == \"b\" and J2 == \"c\":\n",
        "    print(\"El resultado es: JUGADOR DOS GANA\")\n",
        "if J1 == \"b\" and J2 == \"a\":\n",
        "    print(\"El resultado es: JUGADOR UNO GANA\")\n",
        "if J1 == \"a\" and J2 == \"c\":\n",
        "    print(\"El resultado es: JUGADOR UNO GANA\")\n",
        "if J1 == \"a\" and J2 == \"b\":\n",
        "    print(\"El resultado es: JUGADOR DOS GANA\")\n",
        "if J1 == \"a\" and J2 == \"a\":\n",
        "    print(\"El resultado es: EMPATE\")\n",
        "if J1 == \"b\" and J2 == \"b\":\n",
        "    print(\"El resultado es: EMPATE\")\n",
        "if J1 == \"c\" and J2 == \"c\":\n",
        "    print(\"El resultado es: EMPATE\")"
      ],
      "execution_count": 17,
      "outputs": [
        {
          "output_type": "stream",
          "name": "stdout",
          "text": [
            "Juego piedra, papel o tijeras\n",
            "a = piedra\n",
            "b = papel\n",
            "c = tijeras\n",
            "JUGADOR UNO, eliga una opción (abc): a\n",
            "JUGADOR DOS, eliga una opción (abc): b\n",
            "El resultado es: JUGADOR DOS GANA\n"
          ]
        }
      ]
    },
    {
      "cell_type": "markdown",
      "metadata": {
        "id": "KAbyKdf2zlrZ"
      },
      "source": [
        "####***Ejercicio 3:***\n",
        "Implementar un programa que imprima el siguiente patrón:\n",
        "*   123456\n",
        "*   12345\n",
        "*   1234\n",
        "*   123\n",
        "*   12\n",
        "*   1\n",
        "*   12\n",
        "*   123\n",
        "*   1234\n",
        "*   12345\n",
        "*   123456\n",
        "\n",
        "\n",
        "\n"
      ]
    },
    {
      "cell_type": "code",
      "metadata": {
        "colab": {
          "base_uri": "https://localhost:8080/"
        },
        "id": "ZGWaea9U7urt",
        "outputId": "a4f9c853-0b56-47c2-c052-b03d52d02f94"
      },
      "source": [
        "for i in range(6,1,-1): #Ciclo que indica que empezará en 6, terminará en 2 e irá disminuyendo de 1 en 1\n",
        "    for j in range(1,i+1): #Ciclo para que avancen las filas\n",
        "            print(j, end=\" \") #Impresión de filas\n",
        "    print(\"\\r\") #Evita que las impresiones sean en una sola línea\n",
        "for i in range(1,7,+1): #Ciclo que indica que empezará en 1, terminará en 6 e irá aumentando de 1 en 1\n",
        "    for j in range(1,i+1): #Ciclo para que avancen las filas\n",
        "        print(j, end=\" \") #Impresión de filas\n",
        "    print(\"\\r\") #Evita que las impresiones sean en una sola línea"
      ],
      "execution_count": 19,
      "outputs": [
        {
          "output_type": "stream",
          "name": "stdout",
          "text": [
            "1 2 3 4 5 6 \r\n",
            "1 2 3 4 5 \r\n",
            "1 2 3 4 \r\n",
            "1 2 3 \r\n",
            "1 2 \r\n",
            "1 \r\n",
            "1 2 \r\n",
            "1 2 3 \r\n",
            "1 2 3 4 \r\n",
            "1 2 3 4 5 \r\n",
            "1 2 3 4 5 6 \r\n"
          ]
        }
      ]
    }
  ]
}