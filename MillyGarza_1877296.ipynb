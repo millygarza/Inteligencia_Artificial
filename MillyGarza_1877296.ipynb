{
  "nbformat": 4,
  "nbformat_minor": 0,
  "metadata": {
    "colab": {
      "name": "MillyGarza_1877296.ipynb",
      "provenance": [],
      "authorship_tag": "ABX9TyP2I+Vx7IBQIbMOHzinMu1V",
      "include_colab_link": true
    },
    "kernelspec": {
      "name": "python3",
      "display_name": "Python 3"
    },
    "language_info": {
      "name": "python"
    }
  },
  "cells": [
    {
      "cell_type": "markdown",
      "metadata": {
        "id": "view-in-github",
        "colab_type": "text"
      },
      "source": [
        "<a href=\"https://colab.research.google.com/github/millygarza/Inteligencia_Artificial/blob/main/MillyGarza_1877296.ipynb\" target=\"_parent\"><img src=\"https://colab.research.google.com/assets/colab-badge.svg\" alt=\"Open In Colab\"/></a>"
      ]
    },
    {
      "cell_type": "markdown",
      "metadata": {
        "id": "D6ClIc7ABWJi"
      },
      "source": [
        "####Martes N4 Inteligencia Artificial y Redes Neuronales\n",
        "\n",
        "# **Examen Medio Curso**\n",
        "###*Problema 1.1 y 1.2*\n",
        "\n",
        "Milly Pamela Garza Santoy\n",
        "1877296\n",
        "\n",
        "\n",
        "\n",
        "---\n",
        "\n",
        "####**Instrucciones**\n",
        "\n",
        "\n",
        "1.   Desarrollar los código en un solo notebook de Google Colab y después subirlo a su repositorio de GitHub en una carpeta con el nombre \"Examen-Medio-Curso-IA\". Al final, deberán de copiar y pegar el link de esa carpeta en la celda de esta pregunta.\n",
        "\n",
        "####***Ejercicio 1.1:***\n",
        "\n",
        "\n",
        "1.   El usuario dará un número al azar y el código calculará la suma de todos los números desde el 1 hasta el número dado por el usuario.\n",
        "Ejemplo: el usuario dió el número 4, el código deberá de dar como resultado 10."
      ]
    },
    {
      "cell_type": "code",
      "metadata": {
        "colab": {
          "base_uri": "https://localhost:8080/"
        },
        "id": "762E9qSZBPoG",
        "outputId": "fcdbdd73-4283-4d9e-a379-5c1e23499c29"
      },
      "source": [
        "azar=int(input(\"Ingrese un número entero: \"))\n",
        "suma=0\n",
        "for x in range(azar+1):\n",
        "  suma+=x\n",
        "print(\"El resultado es:\",suma)"
      ],
      "execution_count": null,
      "outputs": [
        {
          "output_type": "stream",
          "name": "stdout",
          "text": [
            "Ingrese un número entero: 3\n",
            "El resultado es: 6\n"
          ]
        }
      ]
    },
    {
      "cell_type": "markdown",
      "metadata": {
        "id": "6XMCo-nDEPGu"
      },
      "source": [
        "####***Ejercicio 1.2:***\n",
        "\n",
        "\n",
        "1.   Dados el inicio y final de un rango de números, guardar ese rango de números en una lista. Después, imprimir los números que son pares en la lista por medio de uno de los ciclos que vimos en clase. \n",
        "Inicio = 6, final = 31"
      ]
    },
    {
      "cell_type": "code",
      "metadata": {
        "colab": {
          "base_uri": "https://localhost:8080/"
        },
        "id": "Fcq8tOuAEazV",
        "outputId": "e74c8878-6b60-4c45-ee97-80f4db724ec5"
      },
      "source": [
        "\n",
        "lista=[]\n",
        "lista_pares=[]\n",
        "for i in range(6,32):\n",
        "  lista.append(i)\n",
        "  if i%2==0:\n",
        "    lista_pares.append(i)\n",
        "print(lista_pares)\n"
      ],
      "execution_count": null,
      "outputs": [
        {
          "output_type": "stream",
          "name": "stdout",
          "text": [
            "[6, 8, 10, 12, 14, 16, 18, 20, 22, 24, 26, 28, 30]\n"
          ]
        }
      ]
    }
  ]
}